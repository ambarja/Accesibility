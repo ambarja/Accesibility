{
 "cells": [
  {
   "cell_type": "code",
   "execution_count": null,
   "id": "c2b9a928",
   "metadata": {},
   "outputs": [],
   "source": [
    "import pandas as pd\n",
    "import geopandas as gpd\n",
    "from access import Access, weights, Datasets\n",
    "import keplergl"
   ]
  },
  {
   "cell_type": "code",
   "execution_count": 152,
   "id": "5d0661cb",
   "metadata": {},
   "outputs": [
    {
     "name": "stderr",
     "output_type": "stream",
     "text": [
      "/usr/lib/python3.10/site-packages/pyproj/crs/crs.py:53: FutureWarning: '+init=<authority>:<code>' syntax is deprecated. '<authority>:<code>' is the preferred initialization method. When making the change, be mindful of axis order changes: https://pyproj4.github.io/pyproj/stable/gotchas.html#axis-order-changes-in-proj-6\n",
      "  return _prepare_from_string(\" \".join(pjargs))\n"
     ]
    }
   ],
   "source": [
    "lima = gpd.read_file(\"./mz/Lima.gpkg\")\n",
    "lima = lima.to_crs({'init': 'epsg:32718'})"
   ]
  },
  {
   "cell_type": "code",
   "execution_count": 153,
   "id": "5a90507c",
   "metadata": {},
   "outputs": [
    {
     "name": "stderr",
     "output_type": "stream",
     "text": [
      "/usr/lib/python3.10/site-packages/pyproj/crs/crs.py:53: FutureWarning: '+init=<authority>:<code>' syntax is deprecated. '<authority>:<code>' is the preferred initialization method. When making the change, be mindful of axis order changes: https://pyproj4.github.io/pyproj/stable/gotchas.html#axis-order-changes-in-proj-6\n",
      "  return _prepare_from_string(\" \".join(pjargs))\n"
     ]
    }
   ],
   "source": [
    "cs = gpd.read_file(\"./cs_ability_lima_arequipa.gpkg\")\n",
    "cs.head()\n",
    "cs = cs.to_crs({'init':'epsg:32718'})"
   ]
  },
  {
   "cell_type": "code",
   "execution_count": 155,
   "id": "28dd8b96",
   "metadata": {},
   "outputs": [
    {
     "name": "stderr",
     "output_type": "stream",
     "text": [
      "access INFO     :: Warning: A supply value was not provided, so a default\n",
      "                             supply value of 1 was created in the column named \"value\".\n",
      "                             Note that without a supply value, you cannot use any of the\n",
      "                             floating catchment area methods.\n"
     ]
    }
   ],
   "source": [
    "# Calculating Euclidean Distances Between Hospitals and Census Tracts¶\n",
    "cs_access = Access(\n",
    "    demand_df = lima,\n",
    "    demand_index = 'UBIGEO',\n",
    "    demand_value = 'poblacion',\n",
    "    supply_df    = cs,\n",
    "    supply_index = 'codigo')"
   ]
  },
  {
   "cell_type": "code",
   "execution_count": 156,
   "id": "67f826de",
   "metadata": {},
   "outputs": [
    {
     "data": {
      "text/html": [
       "<div>\n",
       "<style scoped>\n",
       "    .dataframe tbody tr th:only-of-type {\n",
       "        vertical-align: middle;\n",
       "    }\n",
       "\n",
       "    .dataframe tbody tr th {\n",
       "        vertical-align: top;\n",
       "    }\n",
       "\n",
       "    .dataframe thead th {\n",
       "        text-align: right;\n",
       "    }\n",
       "</style>\n",
       "<table border=\"1\" class=\"dataframe\">\n",
       "  <thead>\n",
       "    <tr style=\"text-align: right;\">\n",
       "      <th></th>\n",
       "      <th>cost</th>\n",
       "      <th>origin</th>\n",
       "      <th>dest</th>\n",
       "    </tr>\n",
       "  </thead>\n",
       "  <tbody>\n",
       "    <tr>\n",
       "      <th>0</th>\n",
       "      <td>14786.562766</td>\n",
       "      <td>150101</td>\n",
       "      <td>00005819</td>\n",
       "    </tr>\n",
       "    <tr>\n",
       "      <th>1</th>\n",
       "      <td>14814.576974</td>\n",
       "      <td>150101</td>\n",
       "      <td>00005819</td>\n",
       "    </tr>\n",
       "    <tr>\n",
       "      <th>2</th>\n",
       "      <td>14770.374884</td>\n",
       "      <td>150101</td>\n",
       "      <td>00005819</td>\n",
       "    </tr>\n",
       "    <tr>\n",
       "      <th>3</th>\n",
       "      <td>14767.518476</td>\n",
       "      <td>150101</td>\n",
       "      <td>00005819</td>\n",
       "    </tr>\n",
       "    <tr>\n",
       "      <th>4</th>\n",
       "      <td>14776.071500</td>\n",
       "      <td>150101</td>\n",
       "      <td>00005819</td>\n",
       "    </tr>\n",
       "  </tbody>\n",
       "</table>\n",
       "</div>"
      ],
      "text/plain": [
       "           cost  origin      dest\n",
       "0  14786.562766  150101  00005819\n",
       "1  14814.576974  150101  00005819\n",
       "2  14770.374884  150101  00005819\n",
       "3  14767.518476  150101  00005819\n",
       "4  14776.071500  150101  00005819"
      ]
     },
     "execution_count": 156,
     "metadata": {},
     "output_type": "execute_result"
    }
   ],
   "source": [
    "# We can calculate the euclidean distances between the centroids of our demand and supply geometries\n",
    "# applying the 100,000 meter threshold.\n",
    "# CostMap (fricción)\n",
    "cs_access.create_euclidean_distance(name = 'cost', threshold=100000, centroid_d=True, centroid_o=True)\n",
    "cost_cs = cs_access.cost_df\n",
    "cost_cs.head()"
   ]
  },
  {
   "cell_type": "code",
   "execution_count": null,
   "id": "69e70e6b",
   "metadata": {},
   "outputs": [],
   "source": [
    "# Gravity Model\n",
    "gravity = weights.gravity(scale = 60, alpha = -1)\n",
    "weighted = cs_access.weighted_catchment(name = \"gravity\", weight_fn = gravity)\n",
    "weighted.head()"
   ]
  },
  {
   "cell_type": "code",
   "execution_count": 141,
   "id": "8dd7eb77",
   "metadata": {},
   "outputs": [],
   "source": [
    "def plot_access_measure(access_metric):\n",
    "    cook_map = lima[[\"UBIGEO\",\"geometry\"]].set_index('UBIGEO')\\\n",
    "                      .join(cs_access.access_df, how = \"inner\")\n",
    "    \n",
    "    base = cook_map.plot(access_metric, legend = True, \n",
    "                         figsize = (8, 8), \n",
    "                         cmap = \"viridis\", \n",
    "                         markersize = .5, \n",
    "                         alpha = 1,\n",
    "                         vmin = cook_map[access_metric].quantile(0.05), \n",
    "                         vmax = cook_map[access_metric].quantile(0.95))\n",
    "    \n",
    "    # Plot it twice, so that the points' edgecolor does not hide other points' centers.\n",
    "    cs.plot(ax=base, markersize=20, color='white')\n",
    "    cs.plot(ax=base, markersize=5, color='red', edgecolor = \"white\", linewidth = 0)\n",
    "    \n",
    "    base.set_axis_off()"
   ]
  },
  {
   "cell_type": "code",
   "execution_count": null,
   "id": "4607b84d",
   "metadata": {},
   "outputs": [],
   "source": []
  },
  {
   "cell_type": "code",
   "execution_count": 142,
   "id": "8ae9f5c2",
   "metadata": {},
   "outputs": [
    {
     "data": {
      "image/png": "[encoded data removed]",
      "text/plain": [
       "<Figure size 576x576 with 2 Axes>"
      ]
     },
     "metadata": {
      "needs_background": "light"
     },
     "output_type": "display_data"
    }
   ],
   "source": [
    "plot_access_measure('gravity_value')"
   ]
  },
  {
   "cell_type": "code",
   "execution_count": 143,
   "id": "674e18f6",
   "metadata": {},
   "outputs": [
    {
     "data": {
      "text/html": [
       "<div>\n",
       "<style scoped>\n",
       "    .dataframe tbody tr th:only-of-type {\n",
       "        vertical-align: middle;\n",
       "    }\n",
       "\n",
       "    .dataframe tbody tr th {\n",
       "        vertical-align: top;\n",
       "    }\n",
       "\n",
       "    .dataframe thead th {\n",
       "        text-align: right;\n",
       "    }\n",
       "</style>\n",
       "<table border=\"1\" class=\"dataframe\">\n",
       "  <thead>\n",
       "    <tr style=\"text-align: right;\">\n",
       "      <th></th>\n",
       "      <th>pop</th>\n",
       "      <th>gravity_value</th>\n",
       "    </tr>\n",
       "    <tr>\n",
       "      <th>UBIGEO</th>\n",
       "      <th></th>\n",
       "      <th></th>\n",
       "    </tr>\n",
       "  </thead>\n",
       "  <tbody>\n",
       "    <tr>\n",
       "      <th>070101</th>\n",
       "      <td>451260</td>\n",
       "      <td>2.502952</td>\n",
       "    </tr>\n",
       "    <tr>\n",
       "      <th>070102</th>\n",
       "      <td>74851</td>\n",
       "      <td>2.891505</td>\n",
       "    </tr>\n",
       "    <tr>\n",
       "      <th>070103</th>\n",
       "      <td>42240</td>\n",
       "      <td>3.446474</td>\n",
       "    </tr>\n",
       "    <tr>\n",
       "      <th>070104</th>\n",
       "      <td>61417</td>\n",
       "      <td>2.895518</td>\n",
       "    </tr>\n",
       "    <tr>\n",
       "      <th>070105</th>\n",
       "      <td>3829</td>\n",
       "      <td>1.820587</td>\n",
       "    </tr>\n",
       "  </tbody>\n",
       "</table>\n",
       "</div>"
      ],
      "text/plain": [
       "           pop  gravity_value\n",
       "UBIGEO                       \n",
       "070101  451260       2.502952\n",
       "070102   74851       2.891505\n",
       "070103   42240       3.446474\n",
       "070104   61417       2.895518\n",
       "070105    3829       1.820587"
      ]
     },
     "execution_count": 143,
     "metadata": {},
     "output_type": "execute_result"
    }
   ],
   "source": [
    "cs_access.access_df.head()"
   ]
  },
  {
   "cell_type": "code",
   "execution_count": 144,
   "id": "edb1faf8",
   "metadata": {},
   "outputs": [],
   "source": [
    "score = cs_access.access_df\n",
    "final_score = lima.merge(score, on='UBIGEO', how='left')"
   ]
  },
  {
   "cell_type": "code",
   "execution_count": 145,
   "id": "d415713f",
   "metadata": {},
   "outputs": [
    {
     "data": {
      "text/html": [
       "<div>\n",
       "<style scoped>\n",
       "    .dataframe tbody tr th:only-of-type {\n",
       "        vertical-align: middle;\n",
       "    }\n",
       "\n",
       "    .dataframe tbody tr th {\n",
       "        vertical-align: top;\n",
       "    }\n",
       "\n",
       "    .dataframe thead th {\n",
       "        text-align: right;\n",
       "    }\n",
       "</style>\n",
       "<table border=\"1\" class=\"dataframe\">\n",
       "  <thead>\n",
       "    <tr style=\"text-align: right;\">\n",
       "      <th></th>\n",
       "      <th>NOMBDIST</th>\n",
       "      <th>UBIGEO</th>\n",
       "      <th>pop_x</th>\n",
       "      <th>geometry</th>\n",
       "      <th>pop_y</th>\n",
       "      <th>gravity_value</th>\n",
       "    </tr>\n",
       "  </thead>\n",
       "  <tbody>\n",
       "    <tr>\n",
       "      <th>0</th>\n",
       "      <td>LURIGANCHO</td>\n",
       "      <td>150118</td>\n",
       "      <td>240814</td>\n",
       "      <td>MULTIPOLYGON (((311910.061 8686607.855, 311961...</td>\n",
       "      <td>240814</td>\n",
       "      <td>1.274542</td>\n",
       "    </tr>\n",
       "    <tr>\n",
       "      <th>1</th>\n",
       "      <td>JESUS MARIA</td>\n",
       "      <td>150113</td>\n",
       "      <td>75359</td>\n",
       "      <td>MULTIPOLYGON (((278196.597 8665493.090, 278177...</td>\n",
       "      <td>75359</td>\n",
       "      <td>2.971622</td>\n",
       "    </tr>\n",
       "    <tr>\n",
       "      <th>2</th>\n",
       "      <td>LIMA</td>\n",
       "      <td>150101</td>\n",
       "      <td>268352</td>\n",
       "      <td>MULTIPOLYGON (((281207.034 8669236.772, 281263...</td>\n",
       "      <td>268352</td>\n",
       "      <td>3.744015</td>\n",
       "    </tr>\n",
       "    <tr>\n",
       "      <th>3</th>\n",
       "      <td>LINCE</td>\n",
       "      <td>150116</td>\n",
       "      <td>54711</td>\n",
       "      <td>MULTIPOLYGON (((279248.264 8663924.769, 279250...</td>\n",
       "      <td>54711</td>\n",
       "      <td>2.879791</td>\n",
       "    </tr>\n",
       "    <tr>\n",
       "      <th>4</th>\n",
       "      <td>MIRAFLORES</td>\n",
       "      <td>150122</td>\n",
       "      <td>99337</td>\n",
       "      <td>MULTIPOLYGON (((279342.600 8661206.946, 279340...</td>\n",
       "      <td>99337</td>\n",
       "      <td>2.552837</td>\n",
       "    </tr>\n",
       "  </tbody>\n",
       "</table>\n",
       "</div>"
      ],
      "text/plain": [
       "      NOMBDIST  UBIGEO   pop_x  \\\n",
       "0   LURIGANCHO  150118  240814   \n",
       "1  JESUS MARIA  150113   75359   \n",
       "2         LIMA  150101  268352   \n",
       "3        LINCE  150116   54711   \n",
       "4   MIRAFLORES  150122   99337   \n",
       "\n",
       "                                            geometry   pop_y  gravity_value  \n",
       "0  MULTIPOLYGON (((311910.061 8686607.855, 311961...  240814       1.274542  \n",
       "1  MULTIPOLYGON (((278196.597 8665493.090, 278177...   75359       2.971622  \n",
       "2  MULTIPOLYGON (((281207.034 8669236.772, 281263...  268352       3.744015  \n",
       "3  MULTIPOLYGON (((279248.264 8663924.769, 279250...   54711       2.879791  \n",
       "4  MULTIPOLYGON (((279342.600 8661206.946, 279340...   99337       2.552837  "
      ]
     },
     "execution_count": 145,
     "metadata": {},
     "output_type": "execute_result"
    }
   ],
   "source": [
    "final_score.head()"
   ]
  },
  {
   "cell_type": "code",
   "execution_count": 146,
   "id": "04f654b9",
   "metadata": {},
   "outputs": [
    {
     "data": {
      "text/plain": [
       "<AxesSubplot:>"
      ]
     },
     "execution_count": 146,
     "metadata": {},
     "output_type": "execute_result"
    },
    {
     "data": {
      "image/png": "[encoded data removed]",
      "text/plain": [
       "<Figure size 720x720 with 1 Axes>"
      ]
     },
     "metadata": {
      "needs_background": "light"
     },
     "output_type": "display_data"
    }
   ],
   "source": [
    "final_score.plot(column='gravity_value', figsize=(10,10))"
   ]
  },
  {
   "cell_type": "code",
   "execution_count": 147,
   "id": "82a50896",
   "metadata": {},
   "outputs": [
    {
     "name": "stderr",
     "output_type": "stream",
     "text": [
      "/home/ambarja/.local/lib/python3.10/site-packages/geopandas/io/file.py:362: FutureWarning: pandas.Int64Index is deprecated and will be removed from pandas in a future version. Use pandas.Index with the appropriate dtype instead.\n",
      "  pd.Int64Index,\n"
     ]
    }
   ],
   "source": [
    "final_score.to_file(\"lima_gravity_models.gpkg\", layer='lima_gravity', driver=\"GPKG\")"
   ]
  },
  {
   "cell_type": "code",
   "execution_count": null,
   "id": "4d7d7e4b",
   "metadata": {},
   "outputs": [],
   "source": [
    "A = Access(demand_df            = lima,\n",
    "           demand_index         = 'UBIGEO',\n",
    "           demand_value         = 'pob2017',\n",
    "           supply_df            = cs,\n",
    "           supply_index         = 'codigo',\n",
    "           supply_value         = ['Medico','Odontologo'],\n",
    "           cost_df              = cost_cs,\n",
    "           cost_origin          = 'origin',\n",
    "           cost_dest            = 'dest',\n",
    "           cost_name            = 'cost',\n",
    "           neighbor_cost_df     = cost_cs,\n",
    "           neighbor_cost_origin = 'origin',\n",
    "           neighbor_cost_dest   = 'dest',\n",
    "           neighbor_cost_name   = 'cost')"
   ]
  },
  {
   "cell_type": "code",
   "execution_count": null,
   "id": "153a00a6",
   "metadata": {},
   "outputs": [],
   "source": [
    "A.create_euclidean_distance(threshold = 250000, centroid_o = True, centroid_d = True)"
   ]
  },
  {
   "cell_type": "code",
   "execution_count": null,
   "id": "f54f86b2",
   "metadata": {},
   "outputs": [],
   "source": [
    "A.cost_df"
   ]
  },
  {
   "cell_type": "code",
   "execution_count": null,
   "id": "ac54b3d4",
   "metadata": {},
   "outputs": [],
   "source": [
    "A.demand_df = A.demand_df.to_crs(epsg = 32718)\n",
    "A.supply_df = A.supply_df.to_crs(epsg = 32718)"
   ]
  },
  {
   "cell_type": "code",
   "execution_count": null,
   "id": "eaa55ed1",
   "metadata": {},
   "outputs": [],
   "source": [
    "print(A.demand_df.crs)\n",
    "print(A.supply_df.crs)"
   ]
  },
  {
   "cell_type": "code",
   "execution_count": null,
   "id": "2aee03b6",
   "metadata": {},
   "outputs": [],
   "source": [
    "fn30 = weights.step_fn({10 : 1, 20 : 0.68, 30 : 0.22})\n",
    "fn60 = weights.step_fn({20 : 1, 40 : 0.68, 60 : 0.22})"
   ]
  },
  {
   "cell_type": "code",
   "execution_count": null,
   "id": "834b2d9b",
   "metadata": {},
   "outputs": [],
   "source": [
    "gaussian = weights.gaussian(20)"
   ]
  },
  {
   "cell_type": "code",
   "execution_count": null,
   "id": "7a7822c5",
   "metadata": {},
   "outputs": [],
   "source": [
    "gravity = weights.gravity(scale = 60, alpha = -1)"
   ]
  },
  {
   "cell_type": "code",
   "execution_count": null,
   "id": "0e031372",
   "metadata": {},
   "outputs": [],
   "source": [
    "A.weighted_catchment    (name = \"gravity\",  weight_fn = gravity)\n",
    "A.fca_ratio             (name = \"fca\",      max_cost = 15)\n",
    "A.fca_ratio             (name = \"fca\",      max_cost = 30)\n",
    "A.fca_ratio             (name = \"fca60\",    max_cost = 60)\n",
    "A.fca_ratio             (name = \"fca90\",    max_cost = 90)\n",
    "A.two_stage_fca         (name = \"2sfca\",    max_cost = 60)\n",
    "A.enhanced_two_stage_fca(name = \"2sfca30\",  weight_fn = fn30)\n",
    "A.enhanced_two_stage_fca(name = \"2sfca60\",  weight_fn = fn60)\n",
    "A.enhanced_two_stage_fca(name = \"g2sfca\",   weight_fn = gaussian)\n",
    "A.three_stage_fca       (name = \"3sfca\")\n",
    "A.raam(name = \"raam\", tau = 60)\n",
    "A.raam(name = \"raam30\", tau = 30)"
   ]
  },
  {
   "cell_type": "code",
   "execution_count": null,
   "id": "1f4f0e64",
   "metadata": {},
   "outputs": [],
   "source": [
    "A.access_df.head()"
   ]
  },
  {
   "cell_type": "code",
   "execution_count": null,
   "id": "fd2b2678",
   "metadata": {},
   "outputs": [],
   "source": []
  },
  {
   "cell_type": "code",
   "execution_count": null,
   "id": "4130b6ec",
   "metadata": {},
   "outputs": [],
   "source": []
  },
  {
   "cell_type": "code",
   "execution_count": null,
   "id": "a0981593",
   "metadata": {},
   "outputs": [],
   "source": [
    "# New web visualization with kepler -------------------- \n",
    "kepler_map = keplergl.KeplerGl(height=400)"
   ]
  },
  {
   "cell_type": "code",
   "execution_count": null,
   "id": "71a82795",
   "metadata": {},
   "outputs": [],
   "source": [
    "kepler_map.add_data(data = final_score, name=\"Puntaje de accesibilidad\")"
   ]
  },
  {
   "cell_type": "code",
   "execution_count": null,
   "id": "858534d6",
   "metadata": {},
   "outputs": [],
   "source": [
    "kepler_map"
   ]
  },
  {
   "cell_type": "code",
   "execution_count": null,
   "id": "232a6eed",
   "metadata": {},
   "outputs": [],
   "source": [
    "config = kepler_map.config"
   ]
  },
  {
   "cell_type": "code",
   "execution_count": null,
   "id": "cc2e848c",
   "metadata": {},
   "outputs": [],
   "source": [
    "kepler_map.save_to_html(file_name='index.html')"
   ]
  }
 ],
 "metadata": {
  "kernelspec": {
   "display_name": "Python 3 (ipykernel)",
   "language": "python",
   "name": "python3"
  },
  "language_info": {
   "codemirror_mode": {
    "name": "ipython",
    "version": 3
   },
   "file_extension": ".py",
   "mimetype": "text/x-python",
   "name": "python",
   "nbconvert_exporter": "python",
   "pygments_lexer": "ipython3",
   "version": "3.10.4"
  }
 },
 "nbformat": 4,
 "nbformat_minor": 5
}
